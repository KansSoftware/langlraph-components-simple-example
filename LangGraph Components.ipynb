{
 "cells": [
  {
   "cell_type": "markdown",
   "id": "21fa2e13-567d-4509-9023-c99fb230f31f",
   "metadata": {},
   "source": [
    "# Test out creating a simple LangGraph using its Components\n",
    "\n",
    "A simple example of building an agent using LangGraph components. It demonstrates how to create a conversational agent that can search for information and respond to user queries using a state-based workflow.\n",
    "\n",
    "This code is setting up the necessary imports and configurations to work with the OpenAI API in a Python environment.\n",
    "This code is typically used at the beginning of a script that will make API calls to OpenAI services (like GPT models). The .env file would contain your API key and potentially other configuration values, which are loaded into environment variables for security (rather than hardcoding them in your script).\n"
   ]
  },
  {
   "cell_type": "code",
   "execution_count": null,
   "id": "f5762271-8736-4e94-9444-8c92bd0e8074",
   "metadata": {
    "height": 47
   },
   "outputs": [],
   "source": [
    "import openai\n",
    "import re\n",
    "import httpx\n",
    "import os\n",
    "import networkx as nx\n",
    "import matplotlib.pyplot as plt\n",
    "from IPython.display import display, Image\n",
    "from dotenv import load_dotenv\n",
    "from openai import OpenAI\n",
    "from tavily import TavilyClient\n",
    "_ = load_dotenv()"
   ]
  },
  {
   "cell_type": "markdown",
   "id": "d5d64a12",
   "metadata": {},
   "source": [
    "This code is setting up authentication for the OpenAI API\n",
    "This is a standard pattern for setting up API clients securely. Instead of putting your API key directly in your code (which would be bad practice, especially if you share or publish the code), you store it in a separate .env file that isn't committed to version control. The code then loads this key at runtime.\n"
   ]
  },
  {
   "cell_type": "code",
   "execution_count": null,
   "id": "35892de3",
   "metadata": {},
   "outputs": [],
   "source": [
    "\n",
    "\n",
    "# Get OpenAI API key from environment variables\n",
    "OPENAI_API_KEY = os.getenv(\"OPENAI_API_KEY\")\n",
    "TAVILY_API_KEY = os.getenv(\"TAVILY_API_KEY\")\n",
    "\n",
    "\n",
    "# Initialize OpenAI client\n",
    "client = OpenAI(api_key=OPENAI_API_KEY)\n",
    "tavily = TavilyClient(api_key=os.getenv(\"TAVILY_API_KEY\"))\n",
    "print(\"Environment setup complete!\")"
   ]
  },
  {
   "cell_type": "markdown",
   "id": "0b7fd634",
   "metadata": {},
   "source": [
    "This code checks if the OpenAI API key was successfully loaded from the environment variables and provides helpful instructions if it wasn't found. Here's what it does:\n",
    "The if not OPENAI_API_KEY: condition checks if the API key variable is empty or None.\n",
    "If the API key is missing, it prints a detailed set of instructions to help the user get set up:\n",
    "\n",
    "Directs them to OpenAI's API key management page\n",
    "Instructs them to create an account or log in\n",
    "Tells them to create a new API key\n",
    "Guides them to create a .env file in the project's root directory\n",
    "Shows the exact format for adding the API key to the .env file\n",
    "Reminds them to restart the notebook for the changes to take effect\n",
    "\n",
    "If the API key is found (the else clause), it simply prints a confirmation message: \"OpenAI API key found!\"\n"
   ]
  },
  {
   "cell_type": "code",
   "execution_count": null,
   "id": "fcb98037",
   "metadata": {},
   "outputs": [],
   "source": [
    "if not TAVILY_API_KEY:\n",
    "    print(\"Tavily API key not found. Please follow these steps:\")\n",
    "    print(\"1. Go to https://tavily.com/api-keys\")\n",
    "    print(\"2. Create an account or log in\")\n",
    "    print(\"3. Create a new API key\")\n",
    "    print(\"4. Create a .env file in the root directory of this project\")\n",
    "    print(\"5. Add the following line to the .env file:\")\n",
    "    print(\"   TAVILY_API_KEY=your-api-key-here\")\n",
    "    print(\"6. Restart the notebook\")\n",
    "else:\n",
    "    print(\"Tavily API key found!\")"
   ]
  },
  {
   "cell_type": "code",
   "execution_count": null,
   "id": "3446fb25",
   "metadata": {},
   "outputs": [],
   "source": [
    "if not OPENAI_API_KEY:\n",
    "    print(\"OpenAI API key not found. Please follow these steps:\")\n",
    "    print(\"1. Go to https://platform.openai.com/account/api-keys\")\n",
    "    print(\"2. Create an account or log in\")\n",
    "    print(\"3. Create a new API key\")\n",
    "    print(\"4. Create a .env file in the root directory of this project\")\n",
    "    print(\"5. Add the following line to the .env file:\")\n",
    "    print(\"   OPENAI_API_KEY=your-api-key-here\")\n",
    "    print(\"6. Restart the notebook\")\n",
    "else:\n",
    "    print(\"OpenAI API key found!\")"
   ]
  },
  {
   "cell_type": "markdown",
   "id": "a74e13da",
   "metadata": {},
   "source": [
    "StateGraph: This is the main class from LangGraph that allows you to build a directed graph for your agent's workflow. It manages state transitions between different components.\n",
    "\n",
    "END: A special constant used to mark a terminal node in your graph. When the agent reaches this state, execution stops.\n",
    "TypedDict: Helps create dictionary types with predefined keys and value types.\n",
    "\n",
    "In this code, it's used to define the structure of your agent's state.\n",
    "Annotated: A Python typing feature that lets you add metadata to type hints. Here it's used to specify how messages are combined (using the operator.add).\n",
    "\n",
    "Provides standard operators as functions. In this code, operator.add is used to specify how message lists should be combined when states are merged.\n",
    "\n",
    "These are different message types from LangChain that represent parts of a conversation:\n",
    "\n",
    "- AnyMessage: Base type for any message\n",
    "- SystemMessage: Instructions to the AI about how to behave\n",
    "- HumanMessage: Messages from the user\n",
    "- ToolMessage: Messages from tools reporting results back to the AI\n",
    "\n",
    "This imports the OpenAI chat model interface from LangChain, which allows you to interact with models like GPT-3.5 and GPT-4.\n",
    "\n",
    "Imports the Tavily search tool which lets your agent perform internet searches and get real-time information. This tool allows your agent to look up travel information to answer the user's questions.\n",
    "\n",
    "Together, these imports provide the foundation for creating an agent with:\n",
    "\n",
    "- A state-based workflow (StateGraph)\n",
    "- Typed state management (TypedDict, Annotated)\n",
    "- Conversation handling capabilities (message types)\n",
    "- Access to a language model (ChatOpenAI)\n",
    "- The ability to search for information (TavilySearchResults)\n",
    "\n",
    "This is what enables your travel agent to maintain a conversation, process user requests, search for information, and provide informative responses.\n"
   ]
  },
  {
   "cell_type": "code",
   "execution_count": null,
   "id": "d0168aee-bce9-4d60-b827-f86a88187e31",
   "metadata": {
    "height": 115
   },
   "outputs": [],
   "source": [
    "from langgraph.graph import StateGraph, END\n",
    "from typing import TypedDict, Annotated\n",
    "import operator\n",
    "from langchain_core.messages import AnyMessage, SystemMessage, HumanMessage, ToolMessage\n",
    "from langchain_openai import ChatOpenAI\n",
    "from langchain_community.tools.tavily_search import TavilySearchResults"
   ]
  },
  {
   "cell_type": "markdown",
   "id": "be45292a",
   "metadata": {},
   "source": [
    "This code creates a search tool for your agent that allows it to search for information online.\n",
    "Here's what it's doing:\n",
    "\n",
    "- tool = TavilySearchResults(max_results=4) - Creates a new Tavily search tool, configured to return 4 results per search (instead of the default, which is likely fewer)\n",
    "\n",
    "This tool acts as the agent's \"eyes\" to the internet - when the agent needs information about travel destinations, attractions, costs, or other facts that might not be in its training data, it can use this tool to search for up-to-date information\n"
   ]
  },
  {
   "cell_type": "code",
   "execution_count": 28,
   "id": "2589c5b6-6cc2-4594-9a17-dccdcf676054",
   "metadata": {
    "height": 64
   },
   "outputs": [
    {
     "name": "stdout",
     "output_type": "stream",
     "text": [
      "<class 'langchain_community.tools.tavily_search.tool.TavilySearchResults'>\n",
      "tavily_search_results_json\n"
     ]
    }
   ],
   "source": [
    "tool = TavilySearchResults(max_results=4) #increased number of results\n",
    "print(type(tool))\n",
    "print(tool.name)"
   ]
  },
  {
   "cell_type": "markdown",
   "id": "e196c186-af55-4f2d-b569-b7d63a859304",
   "metadata": {},
   "source": [
    "If you are not familiar with python typing annotation, you can refer to the [python documents](https://docs.python.org/3/library/typing.html).\n",
    "\n",
    "This code defines a custom data structure for storing the agent's state using Python's typing features.\n",
    "Here's what it does:\n",
    "\n",
    "class AgentState(TypedDict): creates a specialized dictionary type called AgentState that has predefined keys and value types.\n",
    "messages: Annotated[list[AnyMessage], operator.add] defines a field called \"messages\" in this dictionary, with these characteristics:\n",
    "\n",
    "It contains a list of AnyMessage objects (these are message objects from LangChain that could be from the user, assistant, or tools)\n",
    "The Annotated with operator.add specifies how to combine message lists when merging states - they should be concatenated together\n",
    "\n",
    "This structure is used by LangGraph to:\n",
    "\n",
    "Keep track of the conversation history\n",
    "Pass messages between different nodes in the graph\n",
    "Determine what to do next based on the state\n",
    "\n",
    "When your agent runs, this structure stores all messages exchanged, which allows the agent to maintain context throughout a conversation and make decisions based on the entire dialogue history.\n"
   ]
  },
  {
   "cell_type": "code",
   "execution_count": null,
   "id": "a2ba84ec-c172-4de7-ac55-e3158a531b23",
   "metadata": {
    "height": 47
   },
   "outputs": [],
   "source": [
    "class AgentState(TypedDict):\n",
    "    messages: Annotated[list[AnyMessage], operator.add]"
   ]
  },
  {
   "cell_type": "markdown",
   "id": "f46a72cd",
   "metadata": {},
   "source": [
    "# Understanding the Agent Class: A ReAct Pattern Implementation\n",
    "\n",
    "> **Note:** The `take_action` method includes special logic to handle LLM hallucinations. Even with function calling, language models occasionally return non-existent tool names. The agent simply instructs the LLM to try again—a key advantage of this agentic approach.\n",
    "\n",
    "## Overview\n",
    "\n",
    "The `Agent` class creates a structured decision-making system that enables an AI assistant to think, search for information, and respond intelligently to user queries.\n",
    "\n",
    "## Architecture Components\n",
    "\n",
    "### Constructor (`__init__`)\n",
    "\n",
    "The constructor builds the agent's workflow graph:\n",
    "\n",
    "- **Inputs**: Language model (e.g., GPT-4), tools list, and optional system prompt\n",
    "- **Graph Structure**:\n",
    "  - Creates a `StateGraph` using `AgentState` to manage conversation\n",
    "  - Adds two primary nodes:\n",
    "    - `\"llm\"`: Processes messages and makes decisions\n",
    "    - `\"action\"`: Executes tools like web searches\n",
    "  - Establishes decision flow:\n",
    "    - From `\"llm\"`, checks if tool use is needed\n",
    "    - If yes → `\"action\"` node\n",
    "    - If no → `END` (conversation terminates)\n",
    "    - Return path from `\"action\"` to `\"llm\"` for processing results\n",
    "  - Sets `\"llm\"` as entry point\n",
    "  - Compiles the graph into an executable workflow\n",
    "  - Organizes tools in a dictionary for quick access\n",
    "  - Binds tools to the model to enable function calling\n",
    "\n",
    "### Key Methods\n",
    "\n",
    "#### Decision Function (`exists_action`)\n",
    "\n",
    "Determines whether to use tools or end the conversation:\n",
    "\n",
    "- Examines the latest message\n",
    "- Checks for tool calls requested by the model\n",
    "- Returns `True` if tool calls exist, `False` otherwise\n",
    "\n",
    "#### Language Model Function (`call_openai`)\n",
    "\n",
    "Manages interactions with the language model:\n",
    "\n",
    "- Retrieves conversation history from state\n",
    "- Prepends system prompt if provided\n",
    "- Invokes the model with all messages\n",
    "- Returns the model's response as new state\n",
    "\n",
    "#### Tool Execution Function (`take_action`)\n",
    "\n",
    "Handles tool usage workflow:\n",
    "\n",
    "- Extracts tool calls from the model's latest response\n",
    "- For each tool call:\n",
    "  - Logs the execution\n",
    "  - Verifies tool existence\n",
    "  - Returns error for invalid tools\n",
    "  - Invokes valid tools with arguments\n",
    "  - Wraps results in formatted `ToolMessage`\n",
    "- Returns all tool results for model processing\n",
    "\n",
    "## Agent Capabilities\n",
    "\n",
    "This ReAct (Reasoning + Action) pattern enables the agent to:\n",
    "\n",
    "1. Analyze user questions\n",
    "2. Determine information needs\n",
    "3. Search for required information\n",
    "4. Process search results\n",
    "5. Formulate comprehensive responses\n",
    "\n",
    "The design allows for breaking complex questions into manageable steps while gathering necessary information along the way.\n"
   ]
  },
  {
   "cell_type": "code",
   "execution_count": null,
   "id": "876d5092-b8ef-4e38-b4d7-0e80c609bf7a",
   "metadata": {
    "height": 727
   },
   "outputs": [],
   "source": [
    "class Agent:\n",
    "\n",
    "    def __init__(self, model, tools, system=\"\"):\n",
    "        self.system = system\n",
    "        graph = StateGraph(AgentState)\n",
    "        graph.add_node(\"llm\", self.call_openai)\n",
    "        graph.add_node(\"action\", self.take_action)\n",
    "        graph.add_conditional_edges(\n",
    "            \"llm\",\n",
    "            self.exists_action,\n",
    "            {True: \"action\", False: END}\n",
    "        )\n",
    "        graph.add_edge(\"action\", \"llm\")\n",
    "        graph.set_entry_point(\"llm\")\n",
    "        self.graph = graph.compile()\n",
    "        self.tools = {t.name: t for t in tools}\n",
    "        self.model = model.bind_tools(tools)\n",
    "\n",
    "    def exists_action(self, state: AgentState):\n",
    "        result = state['messages'][-1]\n",
    "        return len(result.tool_calls) > 0\n",
    "\n",
    "    def call_openai(self, state: AgentState):\n",
    "        messages = state['messages']\n",
    "        if self.system:\n",
    "            messages = [SystemMessage(content=self.system)] + messages\n",
    "        message = self.model.invoke(messages)\n",
    "        return {'messages': [message]}\n",
    "\n",
    "    def take_action(self, state: AgentState):\n",
    "        tool_calls = state['messages'][-1].tool_calls\n",
    "        results = []\n",
    "        for t in tool_calls:\n",
    "            print(f\"Calling: {t}\")\n",
    "            if not t['name'] in self.tools:      # check for bad tool name from LLM\n",
    "                print(\"\\n ....bad tool name....\")\n",
    "                result = \"bad tool name, retry\"  # instruct LLM to retry if bad\n",
    "            else:\n",
    "                result = self.tools[t['name']].invoke(t['args'])\n",
    "            results.append(ToolMessage(tool_call_id=t['id'], name=t['name'], content=str(result)))\n",
    "        print(\"Back to the model!\")\n",
    "        return {'messages': results}"
   ]
  },
  {
   "cell_type": "markdown",
   "id": "0340b71c",
   "metadata": {},
   "source": [
    "Once this code executes, agentbot is ready to:\n",
    "\n",
    "Accept travel-related questions from users\n",
    "Process them through the GPT-3.5 Turbo model\n",
    "Search the internet for current information using Tavily when needed\n",
    "Follow the travel planning instructions and workflow defined in the prompt and graph structure\n",
    "\n",
    "It's essentially configuring a specialized travel assistant that can leverage internet search to provide up-to-date information rather than relying solely on its pre-trained knowledge.\n"
   ]
  },
  {
   "cell_type": "code",
   "execution_count": null,
   "id": "10084a02-2928-4945-9f7c-ad3f5b33caf7",
   "metadata": {
    "height": 149
   },
   "outputs": [],
   "source": [
    "prompt = \"\"\"You are a smart travel planner. Use the search engine to look up information. \\\n",
    "You are allowed to make multiple calls (either together or in sequence). \\\n",
    "Only look up information when you are sure of what you want. \\\n",
    "If you need to look up some information before asking a follow up question, you are allowed to do that!\n",
    "\"\"\"\n",
    "\n",
    "model = ChatOpenAI(\n",
    "    model_name=\"gpt-3.5-turbo\",  # Note: model_name instead of model in some versions\n",
    "    # Don't include any proxy settings\n",
    ") #reduce inference cost\n",
    "agentbot = Agent(model, [tool], system=prompt)"
   ]
  },
  {
   "cell_type": "markdown",
   "id": "7a6ba1cf",
   "metadata": {},
   "source": [
    "## Display the Agent Graph Structure\n"
   ]
  },
  {
   "cell_type": "markdown",
   "id": "161ce0c6",
   "metadata": {},
   "source": [
    "This approach creates a visualization showing:\n",
    "\n",
    "The nodes in the graph (LLM and Action nodes)\n",
    "The connections between them\n",
    "The overall flow of the agent's decision process\n",
    "\n",
    "The visualization is simpler than what Mermaid might provide, but it works reliably without external dependencies and clearly shows the ReAct pattern's flow between thinking (LLM) and acting (tools).\n"
   ]
  },
  {
   "cell_type": "code",
   "execution_count": 29,
   "id": "df904f55",
   "metadata": {},
   "outputs": [
    {
     "data": {
      "image/png": "[encoded data removed]",
      "text/plain": [
       "<IPython.core.display.Image object>"
      ]
     },
     "metadata": {},
     "output_type": "display_data"
    }
   ],
   "source": [
    "# Visualize the agent graph structure\n",
    "from IPython.display import display, Image\n",
    "\n",
    "# Render the graph as a Mermaid diagram and display it as a PNG image\n",
    "display(\n",
    "    Image(\n",
    "        agentbot.graph.get_graph().draw_mermaid_png()\n",
    "    )\n",
    ")"
   ]
  },
  {
   "cell_type": "markdown",
   "id": "098db026",
   "metadata": {},
   "source": [
    "# A Single Query and how it flows\n",
    "\n",
    "This code is executing a query through your agent system using the LangGraph framework. Here's what it's doing:\n",
    "\n",
    "messages = [HumanMessage(content=\"What is the capital in Namibia?\")]\n",
    "\n",
    "Creates a list containing a single HumanMessage with the question \"What is the capital in Namibia?\"\n",
    "This represents the user's input to the agent\n",
    "\n",
    "result = agentbot.graph.invoke({\"messages\": messages})\n",
    "\n",
    "Calls the invoke method on the agent's graph\n",
    "Passes the messages wrapped in a dictionary that matches the expected AgentState format\n",
    "This starts the execution flow of the agent\n",
    "\n",
    "Behind the scenes, this triggers:\n",
    "\n",
    "The graph starts at the \"llm\" node (entry point)\n",
    "The language model receives the question about Namibia's capital\n",
    "If the model doesn't know the answer with certainty, it will likely call the Tavily search tool\n",
    "The search results will be returned and passed back to the model\n",
    "The model will process the information and formulate a final answer\n",
    "The final result is stored in the result variable\n",
    "\n",
    "You can then access the agent's final response with result['messages'][-1].content, which would tell you that Windhoek is the capital of Namibia.\n"
   ]
  },
  {
   "cell_type": "code",
   "execution_count": null,
   "id": "83588e70-254f-4f83-a510-c8ae81e729b0",
   "metadata": {
    "height": 47
   },
   "outputs": [],
   "source": [
    "messages = [HumanMessage(content=\"What is the capital in Namibia?\")]\n",
    "result = agentbot.graph.invoke({\"messages\": messages})"
   ]
  },
  {
   "cell_type": "code",
   "execution_count": null,
   "id": "89a06a8c-fcd4-4ca6-98f0-36c5809813e6",
   "metadata": {
    "height": 30,
    "scrolled": true
   },
   "outputs": [],
   "source": [
    "result"
   ]
  },
  {
   "cell_type": "markdown",
   "id": "cd9551bc",
   "metadata": {},
   "source": [
    "When you run result['messages'][-1].content, you're accessing the final message content from the conversation result. This extracts the agent's final answer about Namibia's capital from the complete state.\n",
    "This line specifically:\n",
    "\n",
    "Takes the result dictionary returned by the agent\n",
    "Accesses the 'messages' list within that dictionary\n",
    "Selects the last message [-1] (the agent's final response)\n",
    "Extracts just the content of that message (the text of the answer)\n",
    "\n",
    "The output would be something like:\n",
    "\"The capital of Namibia is Windhoek.\"\n",
    "This is the clean, final answer generated by your agent after potentially searching for and processing information about Namibia.\n"
   ]
  },
  {
   "cell_type": "code",
   "execution_count": null,
   "id": "6cb3ef4c-58b3-401b-b104-0d51e553d982",
   "metadata": {
    "height": 30
   },
   "outputs": [],
   "source": [
    "result['messages'][-1].content"
   ]
  },
  {
   "cell_type": "markdown",
   "id": "67545b1d",
   "metadata": {},
   "source": [
    "First, it creates a new agent instance called agentbot:\n",
    "\n",
    "pythonagentbot = Agent(model, [tool], system=prompt)\n",
    "\n",
    "This agent uses the previously defined ChatGPT model, Tavily search tool, and travel planner system prompt.\n",
    "\n",
    "Then it creates a list containing a single human message asking about two capitals:\n",
    "pythonmessages = [HumanMessage(content=\"What is the Capital of Namibia and Botswana?\")]\n",
    "\n",
    "Finally, it invokes the agent's graph with these messages:\n",
    "pythonresult = agentbot.graph.invoke({\"messages\": messages})\n",
    "\n",
    "When this code runs, the agent will:\n",
    "\n",
    "Process the question through the language model\n",
    "Likely determine it needs to search for information (since the question asks about factual information)\n",
    "Make one or more searches using the Tavily search tool\n",
    "Process the search results\n",
    "Formulate a complete answer about both capitals\n",
    "\n",
    "The answer would be stored in the result variable, and you could access it using result['messages'][-1].content, which would tell you that the capital of Namibia is Windhoek and the capital of Botswana is Gaborone.\n"
   ]
  },
  {
   "cell_type": "code",
   "execution_count": null,
   "id": "dc3293b7-a50c-43c8-a022-8975e1e444b8",
   "metadata": {
    "height": 47
   },
   "outputs": [],
   "source": [
    "# Create a new agent instance called 'agentbot'\n",
    "agentbot = Agent(model, [tool], system=prompt)\n",
    "\n",
    "messages = [HumanMessage(content=\"What is the Capital of Namibia and Botswana?\")]\n",
    "result = agentbot.graph.invoke({\"messages\": messages})"
   ]
  },
  {
   "cell_type": "code",
   "execution_count": null,
   "id": "0722c3d4-4cbf-43bf-81b0-50f634c4ce61",
   "metadata": {
    "height": 30
   },
   "outputs": [],
   "source": [
    "result['messages'][-1].content"
   ]
  },
  {
   "cell_type": "markdown",
   "id": "0a000011",
   "metadata": {},
   "source": [
    "# Lets now ask a multi part Query and see how it flows\n",
    "\n",
    "This will trigger the agent to:\n",
    "\n",
    "Process the multi-part travel query\n",
    "Likely make several searches to gather information on:\n",
    "\n",
    "Seasonal information for Kyoto\n",
    "Top attractions in Kyoto\n",
    "Accommodation and food costs in Kyoto\n",
    "\n",
    "Compile all this information\n",
    "Structure a comprehensive response answering all three questions\n",
    "\n",
    "Using GPT-4o allows the agent to better understand this complex query, manage multiple search results, and synthesize them into a coherent, well-structured answer about planning a trip to Kyoto.\n"
   ]
  },
  {
   "cell_type": "code",
   "execution_count": 30,
   "id": "6b2f82fe-3ec4-4917-be51-9fb10d1317fa",
   "metadata": {
    "height": 183
   },
   "outputs": [
    {
     "name": "stdout",
     "output_type": "stream",
     "text": [
      "Calling: {'name': 'tavily_search_results_json', 'args': {'query': 'best time to visit Kyoto Japan'}, 'id': 'call_NEJXwry1679EBRbjGZPni2zf', 'type': 'tool_call'}\n",
      "Calling: {'name': 'tavily_search_results_json', 'args': {'query': 'top 3 attractions in Kyoto'}, 'id': 'call_z11k5EZHDPklNSjozJx0UqTr', 'type': 'tool_call'}\n",
      "Calling: {'name': 'tavily_search_results_json', 'args': {'query': 'average cost for 5-day trip to Kyoto including accommodation and food'}, 'id': 'call_FAgOS5glsYtTW1BYlxKctWUK', 'type': 'tool_call'}\n",
      "Back to the model!\n"
     ]
    }
   ],
   "source": [
    "# Note, the query was modified to produce more consistent results. \n",
    "# Results may vary per run and over time as search information and models change.\n",
    "\n",
    "query = \"What's the best time to visit Kyoto, Japan? What are the top 3 attractions there? \\\n",
    "How much would a typical 5-day trip cost for accommodation and food? Answer each question.\"\n",
    "messages = [HumanMessage(content=query)]\n",
    "\n",
    "model = ChatOpenAI(model=\"gpt-4o\")  # requires more advanced model\n",
    "agentbot = Agent(model, [tool], system=prompt)\n",
    "result = agentbot.graph.invoke({\"messages\": messages})"
   ]
  },
  {
   "cell_type": "code",
   "execution_count": 31,
   "id": "ee0fe1c7-77e2-499c-a2f9-1f739bb6ddf0",
   "metadata": {
    "height": 30
   },
   "outputs": [
    {
     "name": "stdout",
     "output_type": "stream",
     "text": [
      "### Best Time to Visit Kyoto, Japan\n",
      "\n",
      "The best times to visit Kyoto are during the spring (March to May) and fall (September to November) months when the weather is mildest and you can enjoy the cherry blossoms and fall foliage. October is also a great time to visit, featuring cool and pleasant weather with fewer crowds and less rainfall. [Source](https://travel.usnews.com/Kyoto_Japan/When_To_Visit/)\n",
      "\n",
      "### Top 3 Attractions in Kyoto\n",
      "\n",
      "1. **Kiyomizudera Temple**: One of the most celebrated temples in Kyoto known for its magnificent view and historic significance.\n",
      "2. **Fushimi Inari Shrine**: Famous for its thousands of vermillion torii gates, offering a memorable pathway up the mountain.\n",
      "3. **Kinkakuji (The Golden Pavilion)**: A stunning Zen temple with its top two floors completely covered in gold leaf. [Source](https://www.quora.com/What-are-the-most-popular-tourist-attractions-in-Kyoto-and-why)\n",
      "\n",
      "### Cost for a 5-Day Trip to Kyoto (Accommodation and Food)\n",
      "\n",
      "A typical 5-day trip to Kyoto for one person would cost approximately $785 (¥121,842), which includes accommodation, food, local transportation, and sightseeing. This translates to around $157 per day on average. The costs can vary based on travel style and accommodations ranging from budget to luxury. [Source](https://www.budgetyourtrip.com/japan/kyoto)\n"
     ]
    }
   ],
   "source": [
    "print(result['messages'][-1].content)"
   ]
  }
 ],
 "metadata": {
  "kernelspec": {
   "display_name": "langraph-simple-agent-venv",
   "language": "python",
   "name": "python3"
  },
  "language_info": {
   "codemirror_mode": {
    "name": "ipython",
    "version": 3
   },
   "file_extension": ".py",
   "mimetype": "text/x-python",
   "name": "python",
   "nbconvert_exporter": "python",
   "pygments_lexer": "ipython3",
   "version": "3.11.8"
  }
 },
 "nbformat": 4,
 "nbformat_minor": 5
}
